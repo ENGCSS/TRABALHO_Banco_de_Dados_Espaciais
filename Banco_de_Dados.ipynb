{
  "nbformat": 4,
  "nbformat_minor": 0,
  "metadata": {
    "colab": {
      "provenance": [],
      "authorship_tag": "ABX9TyNKISvAQC0PcwCu8k+EexhQ",
      "include_colab_link": true
    },
    "kernelspec": {
      "name": "python3",
      "display_name": "Python 3"
    },
    "language_info": {
      "name": "python"
    }
  },
  "cells": [
    {
      "cell_type": "markdown",
      "metadata": {
        "id": "view-in-github",
        "colab_type": "text"
      },
      "source": [
        "<a href=\"https://colab.research.google.com/github/ENGCSS/TRABALHO_Banco_de_Dados_Espaciais/blob/main/Banco_de_Dados.ipynb\" target=\"_parent\"><img src=\"https://colab.research.google.com/assets/colab-badge.svg\" alt=\"Open In Colab\"/></a>"
      ]
    },
    {
      "cell_type": "code",
      "execution_count": null,
      "metadata": {
        "id": "4ipZVlfuiOhn"
      },
      "outputs": [],
      "source": [
        "#Instala as bibliotecas necessárias\n",
        "!pip install psycopg2 -q\n",
        "!pip install ipython-sql -q"
      ]
    },
    {
      "cell_type": "code",
      "source": [
        "#Carrega os pacotes necessários\n",
        "import psycopg2\n",
        "import pandas as pd\n",
        "from sqlalchemy import create_engine"
      ],
      "metadata": {
        "id": "jB5kpUULcVKR"
      },
      "execution_count": null,
      "outputs": []
    },
    {
      "cell_type": "code",
      "source": [
        "# @title Configurando PostgreSQL no Google Colab\n",
        "\n",
        "#Instala e inicia o PostgreSQL\n",
        "!apt-get install -y postgresql postgresql-contrib > /dev/null 2>&1\n",
        "\n",
        "#Ativa o serviço do PostgreSQL\n",
        "!service postgresql start\n",
        "\n",
        "#Configuração do usuário\n",
        "!sudo -u postgres psql -c \"ALTER USER postgres PASSWORD 'curso_geo';\""
      ],
      "metadata": {
        "id": "6i2OMPlbjTkN"
      },
      "execution_count": null,
      "outputs": []
    },
    {
      "cell_type": "markdown",
      "source": [
        "## Cria o Banco de Dados e o conecta"
      ],
      "metadata": {
        "id": "AJXhTBdcqI-2"
      }
    },
    {
      "cell_type": "code",
      "source": [
        "#Remove o banco de dados se ele já existir e cria um novo para evitar conflitos\n",
        "!sudo -u postgres psql -c 'DROP DATABASE IF EXISTS bd_censo_ibge;'\n",
        "!sudo -u postgres psql -c 'CREATE DATABASE bd_censo_ibge;'\n",
        "\n",
        "#Define as credenciais como variáveis\n",
        "dbname = 'bd_censo_ibge'  # Nome do banco de dados\n",
        "user = 'postgres'         # Nome do usuário\n",
        "password = 'curso_geo'    # Senha definida anteriormente\n",
        "host = 'localhost'        # Endereço do host\n",
        "\n",
        "\n",
        "#Conexão ao Banco de Dados\n",
        "try:\n",
        "    conn = psycopg2.connect(dbname=dbname, user=user, host=host, password=password)\n",
        "    cur = conn.cursor()\n",
        "    print(\"Conectado ao banco de dados com sucesso!\")\n",
        "except Exception as e:\n",
        "    print(\"Erro ao conectar ao banco de dados: \", e)"
      ],
      "metadata": {
        "id": "Lxb4OoNvjkOF"
      },
      "execution_count": null,
      "outputs": []
    },
    {
      "cell_type": "markdown",
      "source": [
        "## Conexão ao PostgreSQL com ipython-sql"
      ],
      "metadata": {
        "id": "L57_CfyXp-fW"
      }
    },
    {
      "cell_type": "code",
      "source": [
        "#Configura a string de conexão\n",
        "connection_string = f\"postgresql://{user}:{password}@{host}/{dbname}\"\n",
        "\n",
        "#Carrega a extensão ipython-sql\n",
        "%load_ext sql\n",
        "%sql $connection_string\n",
        "\n",
        "#Executa uma consulta SQL\n",
        "%sql SELECT version();"
      ],
      "metadata": {
        "id": "0po6tB5RoZRH"
      },
      "execution_count": null,
      "outputs": []
    },
    {
      "cell_type": "markdown",
      "source": [
        "## Preparação e diagnóstico inicial do Banco de Dados"
      ],
      "metadata": {
        "id": "RMgvjFWWprkJ"
      }
    },
    {
      "cell_type": "code",
      "source": [
        "#Consultar esquemas existentes\n",
        "%%sql\n",
        "SELECT schema_name\n",
        "FROM information_schema.schemata;"
      ],
      "metadata": {
        "id": "MhsRkp9IohRA"
      },
      "execution_count": null,
      "outputs": []
    },
    {
      "cell_type": "code",
      "source": [
        "#Lista as tabelas no esquema ‘public’\n",
        "%%sql\n",
        "SELECT table_name\n",
        "FROM information_schema.tables\n",
        "WHERE table_schema = 'public';"
      ],
      "metadata": {
        "id": "iWImwS9Woo2-"
      },
      "execution_count": null,
      "outputs": []
    },
    {
      "cell_type": "code",
      "source": [
        "#Verifica a versão do Banco de Dados\n",
        "%%sql\n",
        "SELECT version();"
      ],
      "metadata": {
        "id": "72s9m_uYprzn"
      },
      "execution_count": null,
      "outputs": []
    },
    {
      "cell_type": "code",
      "source": [
        "#Verifica o espaço em disco\n",
        "%%sql\n",
        "SELECT pg_size_pretty(pg_database_size(current_database()));"
      ],
      "metadata": {
        "id": "E-puJpDGq6Uw"
      },
      "execution_count": null,
      "outputs": []
    },
    {
      "cell_type": "code",
      "source": [
        "#Verifica as conexões ativas\n",
        "%%sql\n",
        "SELECT *\n",
        "FROM pg_stat_activity;"
      ],
      "metadata": {
        "id": "q-J3VW0irDnL"
      },
      "execution_count": null,
      "outputs": []
    },
    {
      "cell_type": "code",
      "source": [
        "#Consulta os índices existentes\n",
        "%%sql\n",
        "SELECT *\n",
        "FROM pg_indexes\n",
        "WHERE schemaname = 'public';"
      ],
      "metadata": {
        "id": "bPL453W1rV2m"
      },
      "execution_count": null,
      "outputs": []
    },
    {
      "cell_type": "markdown",
      "source": [
        "## Criação das tabelas"
      ],
      "metadata": {
        "id": "8ye2v76vrQh2"
      }
    },
    {
      "cell_type": "code",
      "source": [
        "%%sql\n",
        "CREATE TABLE \"municipio\" (\n",
        "  \"cd_geocodi\" int PRIMARY KEY,\n",
        "  \"nome_mun\" varchar,\n",
        "  \"area_km2\" float,\n",
        "  \"popul_2010\" int,\n",
        "  \"popul_2022\" int,\n",
        "  \"cod_rgi\" int,\n",
        "  \"cod_uf\" int\n",
        ");\n",
        "\n",
        "CREATE TABLE \"regiao_imed\" (\n",
        "  \"cod_rgi\" int PRIMARY KEY,\n",
        "  \"nome_rgi\" varchar,\n",
        "  );\n",
        "\n",
        "CREATE TABLE \"estado\" (\n",
        "  \"cod_uf\" int PRIMARY KEY,\n",
        "  \"nome_uf\" varchar,\n",
        "  \"sigla_uf\" varchar,\n",
        "  \"cod_rg\" int\n",
        ");\n",
        "\n",
        "CREATE TABLE \"regiao\" (\n",
        "  \"cod_rg\" int PRIMARY KEY,\n",
        "  \"nome_rg\" varchar\n",
        ");"
      ],
      "metadata": {
        "id": "WUbaKTUzrUpw"
      },
      "execution_count": null,
      "outputs": []
    },
    {
      "cell_type": "code",
      "source": [
        "#Verifica as Tabelas no Banco de Dados\n",
        "%%sql\n",
        "SELECT table_name\n",
        "FROM information_schema.tables\n",
        "WHERE table_schema = 'public';"
      ],
      "metadata": {
        "id": "gVL57Hu2s1qV"
      },
      "execution_count": null,
      "outputs": []
    },
    {
      "cell_type": "code",
      "source": [
        "#Estabelece relações com chaves estrangeiras\n",
        "%%sql\n",
        "ALTER TABLE \"municipio\" ADD FOREIGN KEY (\"cod_rgi\") REFERENCES \"regiao_imed\" (\"cod_rgi\");\n",
        "ALTER TABLE \"municipio\" ADD FOREIGN KEY (\"cod_uf\") REFERENCES \"estado\" (\"cod_uf\");\n",
        "ALTER TABLE \"estado\" ADD FOREIGN KEY (\"cod_rg\") REFERENCES \"regiao\" (\"cod_rg\");"
      ],
      "metadata": {
        "id": "c7S4ii1W6Sdk"
      },
      "execution_count": null,
      "outputs": []
    },
    {
      "cell_type": "code",
      "source": [
        "#Carrega os dados das regiões\n",
        "df_regiao = pd.read_excel('/content/Dados.xlsx',sheet_name='reg')\n",
        "print(df_regiao.head())\n",
        "\n",
        "#Carrega os dados dos estados\n",
        "df_estado = pd.read_excel('/content/Dados.xlsx',sheet_name='est')\n",
        "print(df_estado.head())\n",
        "\n",
        "# Carrega os dados das regiões imediatas\n",
        "df_regiao_imed = pd.read_excel('/content/Dados.xlsx',sheet_name='rgi')\n",
        "print(df_regiao_imed.head())\n",
        "\n",
        "# Carrega os dados populacionais dos municípios\n",
        "df_municipio = pd.read_excel('/content/Dados.xlsx',sheet_name='mun')\n",
        "print(df_municipio.head())"
      ],
      "metadata": {
        "id": "pFcMnBn79Sij"
      },
      "execution_count": null,
      "outputs": []
    },
    {
      "cell_type": "code",
      "source": [
        "#Verifica a tabela municipio\n",
        "%%sql\n",
        "SELECT * FROM regiao\n",
        "LIMIT 10;"
      ],
      "metadata": {
        "id": "GE5apJrjOn-5"
      },
      "execution_count": null,
      "outputs": []
    },
    {
      "cell_type": "code",
      "source": [
        "# @title Inserção dos dados do DataFrame nas tabelas\n",
        "\n",
        "# Cria o motor de conexão com o banco de dados\n",
        "engine = create_engine(f'postgresql://{user}:{password}@{host}/{dbname}')\n",
        "\n",
        "#-----------------------------------------------------------------------#\n",
        "\n",
        "# Insere os dados na tabela regiao\n",
        "df_regiao.to_sql('regiao', con=engine, if_exists='append', index=False)\n",
        "\n",
        "# Insere os dados na tabela estado\n",
        "df_estado.to_sql('estado', con=engine, if_exists='append', index=False)\n",
        "\n",
        "# Insere os dados na tabela regiao_imed\n",
        "df_regiao_imed.to_sql('regiao_imed', con=engine, if_exists='append', index=False)\n",
        "\n",
        "# Insere os dados na tabela municipio\n",
        "df_municipio.to_sql('municipio', con=engine, if_exists='append', index=False)"
      ],
      "metadata": {
        "id": "LbjdoCXh_IhF"
      },
      "execution_count": null,
      "outputs": []
    },
    {
      "cell_type": "code",
      "source": [
        "%%sql\n",
        "-- Verificando os dados inseridos em censo_mun\n",
        "SELECT *\n",
        "FROM municipio\n",
        "LIMIT 10;"
      ],
      "metadata": {
        "id": "_Y9FHSTOA0Z6"
      },
      "execution_count": null,
      "outputs": []
    },
    {
      "cell_type": "code",
      "source": [
        "#Adiciona índices ao esquema do banco de dados\n",
        "\n",
        "%%sql\n",
        "-- Índices para a tabela censo_mun\n",
        "CREATE INDEX idx_mun_cod_rgi ON municipio USING btree (cod_rgi);\n",
        "CREATE INDEX idx_mun_cod_uf ON municipio USING btree (cod_uf);\n",
        "\n",
        "-- Índice para a tabela regiao_imed\n",
        "CREATE INDEX idx_regiao_imed_cod_rgint ON regiao_imed USING btree (cod_rgint);\n",
        "\n",
        "-- Índice para a tabela estado\n",
        "CREATE INDEX idx_estado_cod_rg ON estado USING btree (cod_rg);"
      ],
      "metadata": {
        "id": "MNUCMPvqgWey"
      },
      "execution_count": null,
      "outputs": []
    },
    {
      "cell_type": "code",
      "source": [
        "%%sql\n",
        "SELECT *\n",
        "FROM municipio\n",
        "ORDER BY nome_mun\n",
        "LIMIT 10;"
      ],
      "metadata": {
        "id": "v9COWAiqhgY7"
      },
      "execution_count": null,
      "outputs": []
    },
    {
      "cell_type": "code",
      "source": [
        "%%sql\n",
        "SELECT *\n",
        "FROM municipio\n",
        "WHERE cod_rgi=290030"
      ],
      "metadata": {
        "id": "0a_NTUOwpHlW"
      },
      "execution_count": null,
      "outputs": []
    }
  ]
}